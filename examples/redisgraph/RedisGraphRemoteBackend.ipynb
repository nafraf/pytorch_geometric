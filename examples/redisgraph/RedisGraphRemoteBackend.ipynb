{
 "cells": [
  {
   "cell_type": "code",
   "execution_count": null,
   "metadata": {},
   "outputs": [],
   "source": []
  },
  {
   "cell_type": "markdown",
   "metadata": {},
   "source": [
    "### Step 0: Preliminaries\n",
    "Necessary package installations and imports."
   ]
  },
  {
   "cell_type": "code",
   "execution_count": null,
   "metadata": {},
   "outputs": [],
   "source": [
    "import os\n",
    "import torch\n",
    "os.environ['TORCH'] = torch.__version__\n",
    "print(torch.__version__)\n",
    "!pip install -q torch-scatter -f https://data.pyg.org/whl/torch-${TORCH}.html\n",
    "!pip install -q torch-sparse -f https://data.pyg.org/whl/torch-${TORCH}.html\n",
    "!pip install -q git+https://github.com/pyg-team/pytorch_geometric.git"
   ]
  },
  {
   "cell_type": "markdown",
   "metadata": {},
   "source": [
    "### Step 1: Create a simple graph\n",
    "Create a simple graph with three nodes and two edges"
   ]
  },
  {
   "cell_type": "code",
   "execution_count": 5,
   "metadata": {},
   "outputs": [
    {
     "data": {
      "text/plain": [
       "<redis.commands.graph.query_result.QueryResult at 0x7fd2d4144d10>"
      ]
     },
     "execution_count": 5,
     "metadata": {},
     "output_type": "execute_result"
    }
   ],
   "source": [
    "import redis\n",
    "from redis.commands.graph import Graph\n",
    "from redis.commands.graph.node import Node\n",
    "from redis.commands.graph.edge import Edge\n",
    "\n",
    "connection = redis.Redis('localhost', 6379, 0)\n",
    "graph = Graph(connection, 'pyg')\n",
    "\n",
    "jane = Node(label='person', properties={'age':32})\n",
    "graph.add_node(jane)\n",
    "john = Node(label='person', properties={'age':38})\n",
    "graph.add_node(john)\n",
    "japan = Node(label='country', properties={'population': 30})\n",
    "graph.add_node(japan)\n",
    "edge1 = Edge(jane, 'visited', japan, properties={'cost': 1.3})\n",
    "graph.add_edge(edge1)\n",
    "edge2 = Edge(john, 'visited', japan, properties={'cost': 2.4})\n",
    "graph.add_edge(edge2)\n",
    "graph.commit()\n",
    "\n",
    "\n"
   ]
  },
  {
   "cell_type": "markdown",
   "metadata": {},
   "source": [
    "Test connection to RedisGraph"
   ]
  },
  {
   "cell_type": "code",
   "execution_count": 1,
   "metadata": {},
   "outputs": [
    {
     "ename": "IndexError",
     "evalue": "list index out of range",
     "output_type": "error",
     "traceback": [
      "\u001b[0;31m---------------------------------------------------------------------------\u001b[0m",
      "\u001b[0;31mIndexError\u001b[0m                                Traceback (most recent call last)",
      "Cell \u001b[0;32mIn[1], line 9\u001b[0m\n\u001b[1;32m      7\u001b[0m \u001b[39m# Read nodes\u001b[39;00m\n\u001b[1;32m      8\u001b[0m person_nodes \u001b[39m=\u001b[39m conn\u001b[39m.\u001b[39mexecute(\u001b[39m\"\u001b[39m\u001b[39mMATCH (a:person) RETURN a LIMIT 5\u001b[39m\u001b[39m\"\u001b[39m)\u001b[39m.\u001b[39mget_as_result_set()\n\u001b[0;32m----> 9\u001b[0m \u001b[39mprint\u001b[39m(person_nodes[\u001b[39m0\u001b[39;49m][\u001b[39m0\u001b[39m])\n\u001b[1;32m     10\u001b[0m \u001b[39mprint\u001b[39m(person_nodes[\u001b[39m1\u001b[39m][\u001b[39m0\u001b[39m])\n\u001b[1;32m     12\u001b[0m \u001b[39m# Read edges\u001b[39;00m\n",
      "\u001b[0;31mIndexError\u001b[0m: list index out of range"
     ]
    }
   ],
   "source": [
    "import rg_pyg.connection\n",
    "import rg_pyg.database\n",
    "\n",
    "db = rg_pyg.database.Database('localhost', 6379)\n",
    "conn = rg_pyg.connection.Connection('localhost', 6379, 0)\n",
    "\n",
    "# Read nodes\n",
    "person_nodes = conn.execute(\"MATCH (a:person) RETURN a LIMIT 5\").get_as_result_set()\n",
    "print(person_nodes[0][0])\n",
    "print(person_nodes[1][0])\n",
    "\n",
    "# Read edges\n",
    "edges = conn.execute(\"MATCH (a:person)-[r]-() RETURN r LIMIT 5\").get_as_result_set()\n",
    "print(edges[0][0])\n",
    "print(edges[1][0])\n",
    "\n",
    "# Read paths\n",
    "edges = conn.execute(\"MATCH p=(a:person)-[r]-() RETURN p LIMIT 5\").get_as_result_set()\n",
    "print(edges[0][0])\n",
    "print(edges[1][0])"
   ]
  },
  {
   "cell_type": "markdown",
   "metadata": {},
   "source": [
    "Export data as torch_geometric"
   ]
  },
  {
   "cell_type": "code",
   "execution_count": 3,
   "metadata": {},
   "outputs": [
    {
     "ename": "ValueError",
     "evalue": "too many dimensions 'str'",
     "output_type": "error",
     "traceback": [
      "\u001b[0;31m---------------------------------------------------------------------------\u001b[0m",
      "\u001b[0;31mValueError\u001b[0m                                Traceback (most recent call last)",
      "Cell \u001b[0;32mIn[3], line 6\u001b[0m\n\u001b[1;32m      1\u001b[0m \u001b[39m# Read nodes\u001b[39;00m\n\u001b[1;32m      2\u001b[0m \u001b[39m# person_nodes = conn.execute(\"MATCH (a:person) RETURN a LIMIT 5\").get_as_torch_geometric()\u001b[39;00m\n\u001b[1;32m      3\u001b[0m \n\u001b[1;32m      4\u001b[0m \u001b[39m# Read graph and export it as torch_geometric\u001b[39;00m\n\u001b[1;32m      5\u001b[0m query \u001b[39m=\u001b[39m \u001b[39m\"\u001b[39m\u001b[39mMATCH (a:person)-[r]->(b) RETURN a, b, r\u001b[39m\u001b[39m\"\u001b[39m\n\u001b[0;32m----> 6\u001b[0m graph_torch \u001b[39m=\u001b[39m conn\u001b[39m.\u001b[39;49mexecute(query)\u001b[39m.\u001b[39;49mget_as_torch_geometric()\n\u001b[1;32m      7\u001b[0m \u001b[39mprint\u001b[39m(graph_torch)\n",
      "File \u001b[0;32m~/work2023/pytorch_geometric/examples/redisgraph/rg_pyg/query_result.py:370\u001b[0m, in \u001b[0;36mQueryResult.get_as_torch_geometric\u001b[0;34m(self)\u001b[0m\n\u001b[1;32m    367\u001b[0m \u001b[39mimport\u001b[39;00m \u001b[39mtorch_geometric\u001b[39;00m\n\u001b[1;32m    369\u001b[0m converter \u001b[39m=\u001b[39m TorchGeometricResultConverter(\u001b[39mself\u001b[39m)\n\u001b[0;32m--> 370\u001b[0m \u001b[39mreturn\u001b[39;00m converter\u001b[39m.\u001b[39;49mget_as_torch_geometric()\n",
      "File \u001b[0;32m~/work2023/pytorch_geometric/examples/redisgraph/rg_pyg/torch_geometric_result_converter.py:336\u001b[0m, in \u001b[0;36mTorchGeometricResultConverter.get_as_torch_geometric\u001b[0;34m(self)\u001b[0m\n\u001b[1;32m    334\u001b[0m \u001b[39mself\u001b[39m\u001b[39m.\u001b[39m__populate_nodes_dict_and_deduplicate_edges()\n\u001b[1;32m    335\u001b[0m \u001b[39mself\u001b[39m\u001b[39m.\u001b[39m__populate_edges_dict()\n\u001b[0;32m--> 336\u001b[0m result \u001b[39m=\u001b[39m \u001b[39mself\u001b[39;49m\u001b[39m.\u001b[39;49m__convert_to_torch_geometric()\n\u001b[1;32m    337\u001b[0m \u001b[39mself\u001b[39m\u001b[39m.\u001b[39m__print_warnings()\n\u001b[1;32m    338\u001b[0m \u001b[39mreturn\u001b[39;00m result\n",
      "File \u001b[0;32m~/work2023/pytorch_geometric/examples/redisgraph/rg_pyg/torch_geometric_result_converter.py:289\u001b[0m, in \u001b[0;36mTorchGeometricResultConverter.__convert_to_torch_geometric\u001b[0;34m(self)\u001b[0m\n\u001b[1;32m    287\u001b[0m \u001b[39mif\u001b[39;00m prop_dimension \u001b[39m==\u001b[39m \u001b[39m0\u001b[39m:\n\u001b[1;32m    288\u001b[0m     \u001b[39mif\u001b[39;00m prop_type \u001b[39m==\u001b[39m Type\u001b[39m.\u001b[39mINT64\u001b[39m.\u001b[39mvalue:\n\u001b[0;32m--> 289\u001b[0m         converted \u001b[39m=\u001b[39m torch\u001b[39m.\u001b[39;49mLongTensor(\n\u001b[1;32m    290\u001b[0m             \u001b[39mself\u001b[39;49m\u001b[39m.\u001b[39;49mnodes_dict[label][prop_name])\n\u001b[1;32m    291\u001b[0m     \u001b[39melif\u001b[39;00m prop_type \u001b[39m==\u001b[39m Type\u001b[39m.\u001b[39mBOOL\u001b[39m.\u001b[39mvalue:\n\u001b[1;32m    292\u001b[0m         converted \u001b[39m=\u001b[39m torch\u001b[39m.\u001b[39mBoolTensor(\n\u001b[1;32m    293\u001b[0m             \u001b[39mself\u001b[39m\u001b[39m.\u001b[39mnodes_dict[label][prop_name])\n",
      "\u001b[0;31mValueError\u001b[0m: too many dimensions 'str'"
     ]
    }
   ],
   "source": [
    "# Read nodes\n",
    "# person_nodes = conn.execute(\"MATCH (a:person) RETURN a LIMIT 5\").get_as_torch_geometric()\n",
    "\n",
    "# Read graph and export it as torch_geometric\n",
    "query = \"MATCH (a:person)-[r]->(b) RETURN a, b, r\"\n",
    "graph_torch = conn.execute(query).get_as_torch_geometric()\n",
    "print(graph_torch)\n"
   ]
  },
  {
   "cell_type": "code",
   "execution_count": null,
   "metadata": {},
   "outputs": [],
   "source": [
    "\n",
    "feature_store, graph_store = db.get_torch_geometric_remote_backend()"
   ]
  },
  {
   "cell_type": "code",
   "execution_count": null,
   "metadata": {},
   "outputs": [],
   "source": [
    "feature_store['person', 'age', 32]\n"
   ]
  },
  {
   "cell_type": "code",
   "execution_count": null,
   "metadata": {},
   "outputs": [],
   "source": [
    "graph_store[('person', 'country'), 'coo']"
   ]
  },
  {
   "cell_type": "code",
   "execution_count": null,
   "metadata": {},
   "outputs": [],
   "source": []
  }
 ],
 "metadata": {
  "kernelspec": {
   "display_name": "pytorch_rg",
   "language": "python",
   "name": "python3"
  },
  "language_info": {
   "codemirror_mode": {
    "name": "ipython",
    "version": 3
   },
   "file_extension": ".py",
   "mimetype": "text/x-python",
   "name": "python",
   "nbconvert_exporter": "python",
   "pygments_lexer": "ipython3",
   "version": "3.11.4"
  },
  "orig_nbformat": 4
 },
 "nbformat": 4,
 "nbformat_minor": 2
}
