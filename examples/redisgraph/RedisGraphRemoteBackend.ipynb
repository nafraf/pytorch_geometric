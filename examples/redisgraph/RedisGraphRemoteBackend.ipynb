{
 "cells": [
  {
   "cell_type": "code",
   "execution_count": null,
   "metadata": {},
   "outputs": [],
   "source": []
  },
  {
   "cell_type": "markdown",
   "metadata": {},
   "source": [
    "### Step 0: Preliminaries\n",
    "Necessary package installations and imports."
   ]
  },
  {
   "cell_type": "code",
   "execution_count": 1,
   "metadata": {},
   "outputs": [
    {
     "name": "stdout",
     "output_type": "stream",
     "text": [
      "2.0.1+cu117\n"
     ]
    }
   ],
   "source": [
    "import os\n",
    "import torch\n",
    "os.environ['TORCH'] = torch.__version__\n",
    "print(torch.__version__)\n",
    "!pip install -q torch-scatter -f https://data.pyg.org/whl/torch-${TORCH}.html\n",
    "!pip install -q torch-sparse -f https://data.pyg.org/whl/torch-${TORCH}.html\n",
    "!pip install -q git+https://github.com/pyg-team/pytorch_geometric.git"
   ]
  },
  {
   "cell_type": "markdown",
   "metadata": {},
   "source": [
    "### Step 1: Create a simple graph\n",
    "Create a simple graph with three nodes and two edges"
   ]
  },
  {
   "cell_type": "code",
   "execution_count": 5,
   "metadata": {},
   "outputs": [
    {
     "data": {
      "text/plain": [
       "<redis.commands.graph.query_result.QueryResult at 0x7f6767cdfa50>"
      ]
     },
     "execution_count": 5,
     "metadata": {},
     "output_type": "execute_result"
    }
   ],
   "source": [
    "import redis\n",
    "from redis.commands.graph import Graph\n",
    "from redis.commands.graph.node import Node\n",
    "from redis.commands.graph.edge import Edge\n",
    "\n",
    "connection = redis.Redis('localhost', 6379, 0)\n",
    "graph = Graph(connection, 'pyg')\n",
    "\n",
    "jane = Node(label='person', properties={'age':32})\n",
    "graph.add_node(jane)\n",
    "john = Node(label='person', properties={'age':38})\n",
    "graph.add_node(john)\n",
    "japan = Node(label='country', properties={'name': 'Japan'})\n",
    "graph.add_node(japan)\n",
    "edge1 = Edge(jane, 'visited', japan, properties={'purpose': 'pleasure'})\n",
    "graph.add_edge(edge1)\n",
    "edge2 = Edge(john, 'visited', japan, properties={'purpose': 'pleasure'})\n",
    "graph.add_edge(edge2)\n",
    "graph.commit()\n",
    "\n",
    "\n"
   ]
  },
  {
   "cell_type": "markdown",
   "metadata": {},
   "source": []
  },
  {
   "cell_type": "code",
   "execution_count": 18,
   "metadata": {},
   "outputs": [
    {
     "name": "stdout",
     "output_type": "stream",
     "text": [
      "(:person{age:32})\n",
      "(:person{age:38})\n",
      "()-[:visited{purpose:\"pleasure\"}]->()\n",
      "()-[:visited{purpose:\"pleasure\"}]->()\n",
      "<(0)-[0]->(2)>\n",
      "<(1)-[1]->(2)>\n"
     ]
    }
   ],
   "source": [
    "import rg_pyg.connection\n",
    "import rg_pyg.database\n",
    "\n",
    "db = rg_pyg.database.Database('localhost', 6379)\n",
    "conn = rg_pyg.connection.Connection('localhost', 6379, 0)\n",
    "\n",
    "# Read nodes\n",
    "person_nodes = conn.execute(\"MATCH (a:person) RETURN a LIMIT 5\").get_as_result_set()\n",
    "print(person_nodes[0][0])\n",
    "print(person_nodes[1][0])\n",
    "\n",
    "# Read edges\n",
    "edges = conn.execute(\"MATCH (a:person)-[r]-() RETURN r LIMIT 5\").get_as_result_set()\n",
    "print(edges[0][0])\n",
    "print(edges[1][0])\n",
    "\n",
    "# Read paths\n",
    "edges = conn.execute(\"MATCH p=(a:person)-[r]-() RETURN p LIMIT 5\").get_as_result_set()\n",
    "print(edges[0][0])\n",
    "print(edges[1][0])"
   ]
  },
  {
   "cell_type": "code",
   "execution_count": 20,
   "metadata": {},
   "outputs": [
    {
     "ename": "AttributeError",
     "evalue": "'QueryResult' object has no attribute 'getColumnNames'",
     "output_type": "error",
     "traceback": [
      "\u001b[0;31m---------------------------------------------------------------------------\u001b[0m",
      "\u001b[0;31mAttributeError\u001b[0m                            Traceback (most recent call last)",
      "Cell \u001b[0;32mIn[20], line 2\u001b[0m\n\u001b[1;32m      1\u001b[0m \u001b[39m# Read nodes\u001b[39;00m\n\u001b[0;32m----> 2\u001b[0m person_nodes \u001b[39m=\u001b[39m conn\u001b[39m.\u001b[39;49mexecute(\u001b[39m\"\u001b[39;49m\u001b[39mMATCH (a:person) RETURN a LIMIT 5\u001b[39;49m\u001b[39m\"\u001b[39;49m)\u001b[39m.\u001b[39;49mget_as_torch_geometric()\n",
      "File \u001b[0;32m~/work2023/pytorch_geometric/examples/redisgraph/rg_pyg/query_result.py:369\u001b[0m, in \u001b[0;36mQueryResult.get_as_torch_geometric\u001b[0;34m(self)\u001b[0m\n\u001b[1;32m    366\u001b[0m \u001b[39mimport\u001b[39;00m \u001b[39mtorch\u001b[39;00m\n\u001b[1;32m    367\u001b[0m \u001b[39mimport\u001b[39;00m \u001b[39mtorch_geometric\u001b[39;00m\n\u001b[0;32m--> 369\u001b[0m converter \u001b[39m=\u001b[39m TorchGeometricResultConverter(\u001b[39mself\u001b[39;49m)\n\u001b[1;32m    370\u001b[0m \u001b[39mreturn\u001b[39;00m converter\u001b[39m.\u001b[39mget_as_torch_geometric()\n",
      "File \u001b[0;32m~/work2023/pytorch_geometric/examples/redisgraph/rg_pyg/torch_geometric_result_converter.py:18\u001b[0m, in \u001b[0;36mTorchGeometricResultConverter.__init__\u001b[0;34m(self, query_result)\u001b[0m\n\u001b[1;32m     16\u001b[0m \u001b[39mself\u001b[39m\u001b[39m.\u001b[39mwarning_messages \u001b[39m=\u001b[39m \u001b[39mset\u001b[39m()\n\u001b[1;32m     17\u001b[0m \u001b[39mself\u001b[39m\u001b[39m.\u001b[39munconverted_properties \u001b[39m=\u001b[39m {}\n\u001b[0;32m---> 18\u001b[0m \u001b[39mself\u001b[39m\u001b[39m.\u001b[39mproperties_to_extract \u001b[39m=\u001b[39m \u001b[39mself\u001b[39;49m\u001b[39m.\u001b[39;49mquery_result\u001b[39m.\u001b[39;49m_get_properties_to_extract()\n",
      "File \u001b[0;32m~/work2023/pytorch_geometric/examples/redisgraph/rg_pyg/query_result.py:308\u001b[0m, in \u001b[0;36mQueryResult._get_properties_to_extract\u001b[0;34m(self)\u001b[0m\n\u001b[1;32m    307\u001b[0m \u001b[39mdef\u001b[39;00m \u001b[39m_get_properties_to_extract\u001b[39m(\u001b[39mself\u001b[39m):\n\u001b[0;32m--> 308\u001b[0m     column_names \u001b[39m=\u001b[39m \u001b[39mself\u001b[39;49m\u001b[39m.\u001b[39;49mget_column_names()\n\u001b[1;32m    309\u001b[0m     column_types \u001b[39m=\u001b[39m \u001b[39mself\u001b[39m\u001b[39m.\u001b[39mget_column_data_types()\n\u001b[1;32m    310\u001b[0m     properties_to_extract \u001b[39m=\u001b[39m {}\n",
      "File \u001b[0;32m~/work2023/pytorch_geometric/examples/redisgraph/rg_pyg/query_result.py:218\u001b[0m, in \u001b[0;36mQueryResult.get_column_names\u001b[0;34m(self)\u001b[0m\n\u001b[1;32m    208\u001b[0m \u001b[39m\u001b[39m\u001b[39m\"\"\"\u001b[39;00m\n\u001b[1;32m    209\u001b[0m \u001b[39mGet the names of the columns in the query result.\u001b[39;00m\n\u001b[1;32m    210\u001b[0m \n\u001b[0;32m   (...)\u001b[0m\n\u001b[1;32m    214\u001b[0m \u001b[39m    Names of the columns in the query result.\u001b[39;00m\n\u001b[1;32m    215\u001b[0m \u001b[39m\"\"\"\u001b[39;00m\n\u001b[1;32m    217\u001b[0m \u001b[39mself\u001b[39m\u001b[39m.\u001b[39mcheck_for_query_result_close()\n\u001b[0;32m--> 218\u001b[0m \u001b[39mreturn\u001b[39;00m \u001b[39mself\u001b[39;49m\u001b[39m.\u001b[39;49m_query_result\u001b[39m.\u001b[39;49mgetColumnNames()\n",
      "\u001b[0;31mAttributeError\u001b[0m: 'QueryResult' object has no attribute 'getColumnNames'"
     ]
    }
   ],
   "source": [
    "# Read nodes\n",
    "person_nodes = conn.execute(\"MATCH (a:person) RETURN a LIMIT 5\").get_as_torch_geometric()\n"
   ]
  },
  {
   "cell_type": "code",
   "execution_count": 7,
   "metadata": {},
   "outputs": [],
   "source": [
    "\n",
    "feature_store, graph_store = db.get_torch_geometric_remote_backend()"
   ]
  },
  {
   "cell_type": "code",
   "execution_count": 8,
   "metadata": {},
   "outputs": [
    {
     "ename": "AttributeError",
     "evalue": "'RedisGraphFeatureStore' object has no attribute '_tensor_attr_cls'",
     "output_type": "error",
     "traceback": [
      "\u001b[0;31m---------------------------------------------------------------------------\u001b[0m",
      "\u001b[0;31mAttributeError\u001b[0m                            Traceback (most recent call last)",
      "Cell \u001b[0;32mIn[8], line 1\u001b[0m\n\u001b[0;32m----> 1\u001b[0m feature_store[\u001b[39m'\u001b[39;49m\u001b[39mperson\u001b[39;49m\u001b[39m'\u001b[39;49m, \u001b[39m'\u001b[39;49m\u001b[39mage\u001b[39;49m\u001b[39m'\u001b[39;49m, \u001b[39m32\u001b[39;49m]\n",
      "File \u001b[0;32m~/anaconda3/envs/pytorch_rg/lib/python3.11/site-packages/torch_geometric/data/feature_store.py:499\u001b[0m, in \u001b[0;36mFeatureStore.__getitem__\u001b[0;34m(self, key)\u001b[0m\n\u001b[1;32m    488\u001b[0m \u001b[39m\u001b[39m\u001b[39mr\u001b[39m\u001b[39m\"\"\"Supports pythonic indexing into the :class:`FeatureStore`.\u001b[39;00m\n\u001b[1;32m    489\u001b[0m \u001b[39mIn particular, the following rules are followed for indexing:\u001b[39;00m\n\u001b[1;32m    490\u001b[0m \n\u001b[0;32m   (...)\u001b[0m\n\u001b[1;32m    496\u001b[0m \u001b[39m  (partially specified) attributes.\u001b[39;00m\n\u001b[1;32m    497\u001b[0m \u001b[39m\"\"\"\u001b[39;00m\n\u001b[1;32m    498\u001b[0m \u001b[39m# CastMixin will handle the case of key being a tuple or TensorAttr:\u001b[39;00m\n\u001b[0;32m--> 499\u001b[0m attr \u001b[39m=\u001b[39m \u001b[39mself\u001b[39;49m\u001b[39m.\u001b[39;49m_tensor_attr_cls\u001b[39m.\u001b[39mcast(key)\n\u001b[1;32m    500\u001b[0m \u001b[39mif\u001b[39;00m attr\u001b[39m.\u001b[39mis_fully_specified():\n\u001b[1;32m    501\u001b[0m     \u001b[39mreturn\u001b[39;00m \u001b[39mself\u001b[39m\u001b[39m.\u001b[39mget_tensor(attr)\n",
      "\u001b[0;31mAttributeError\u001b[0m: 'RedisGraphFeatureStore' object has no attribute '_tensor_attr_cls'"
     ]
    }
   ],
   "source": [
    "feature_store['person', 'age', 32]\n"
   ]
  },
  {
   "cell_type": "code",
   "execution_count": 9,
   "metadata": {},
   "outputs": [
    {
     "ename": "NameError",
     "evalue": "name 'EdgeLayout' is not defined",
     "output_type": "error",
     "traceback": [
      "\u001b[0;31m---------------------------------------------------------------------------\u001b[0m",
      "\u001b[0;31mNameError\u001b[0m                                 Traceback (most recent call last)",
      "Cell \u001b[0;32mIn[9], line 1\u001b[0m\n\u001b[0;32m----> 1\u001b[0m graph_store[(\u001b[39m'\u001b[39;49m\u001b[39mperson\u001b[39;49m\u001b[39m'\u001b[39;49m, \u001b[39m'\u001b[39;49m\u001b[39mcountry\u001b[39;49m\u001b[39m'\u001b[39;49m), \u001b[39m'\u001b[39;49m\u001b[39mcoo\u001b[39;49m\u001b[39m'\u001b[39;49m]\n",
      "File \u001b[0;32m~/anaconda3/envs/pytorch_rg/lib/python3.11/site-packages/torch_geometric/data/graph_store.py:248\u001b[0m, in \u001b[0;36mGraphStore.__getitem__\u001b[0;34m(self, key)\u001b[0m\n\u001b[1;32m    247\u001b[0m \u001b[39mdef\u001b[39;00m \u001b[39m__getitem__\u001b[39m(\u001b[39mself\u001b[39m, key: EdgeAttr) \u001b[39m-\u001b[39m\u001b[39m>\u001b[39m Optional[EdgeTensorType]:\n\u001b[0;32m--> 248\u001b[0m     \u001b[39mreturn\u001b[39;00m \u001b[39mself\u001b[39;49m\u001b[39m.\u001b[39;49mget_edge_index(key)\n",
      "File \u001b[0;32m~/anaconda3/envs/pytorch_rg/lib/python3.11/site-packages/torch_geometric/data/graph_store.py:160\u001b[0m, in \u001b[0;36mGraphStore.get_edge_index\u001b[0;34m(self, *args, **kwargs)\u001b[0m\n\u001b[1;32m    146\u001b[0m \u001b[39m\u001b[39m\u001b[39mr\u001b[39m\u001b[39m\"\"\"Synchronously obtains an :obj:`edge_index` tuple from the\u001b[39;00m\n\u001b[1;32m    147\u001b[0m \u001b[39m:class:`GraphStore`.\u001b[39;00m\n\u001b[1;32m    148\u001b[0m \n\u001b[0;32m   (...)\u001b[0m\n\u001b[1;32m    157\u001b[0m \u001b[39m        :class:`EdgeAttr` was not found.\u001b[39;00m\n\u001b[1;32m    158\u001b[0m \u001b[39m\"\"\"\u001b[39;00m\n\u001b[1;32m    159\u001b[0m edge_attr \u001b[39m=\u001b[39m \u001b[39mself\u001b[39m\u001b[39m.\u001b[39m_edge_attr_cls\u001b[39m.\u001b[39mcast(\u001b[39m*\u001b[39margs, \u001b[39m*\u001b[39m\u001b[39m*\u001b[39mkwargs)\n\u001b[0;32m--> 160\u001b[0m edge_index \u001b[39m=\u001b[39m \u001b[39mself\u001b[39;49m\u001b[39m.\u001b[39;49m_get_edge_index(edge_attr)\n\u001b[1;32m    161\u001b[0m \u001b[39mif\u001b[39;00m edge_index \u001b[39mis\u001b[39;00m \u001b[39mNone\u001b[39;00m:\n\u001b[1;32m    162\u001b[0m     \u001b[39mraise\u001b[39;00m \u001b[39mKeyError\u001b[39;00m(\u001b[39mf\u001b[39m\u001b[39m\"\u001b[39m\u001b[39m'\u001b[39m\u001b[39medge_index\u001b[39m\u001b[39m'\u001b[39m\u001b[39m for \u001b[39m\u001b[39m'\u001b[39m\u001b[39m{\u001b[39;00medge_attr\u001b[39m}\u001b[39;00m\u001b[39m'\u001b[39m\u001b[39m not found\u001b[39m\u001b[39m\"\u001b[39m)\n",
      "File \u001b[0;32m~/work2023/pytorch_geometric/examples/redisgraph/rg_pyg/torch_geometric_graph_store.py:22\u001b[0m, in \u001b[0;36mRedisGraphGraphStore._get_edge_index\u001b[0;34m(self, edge_attr)\u001b[0m\n\u001b[1;32m     21\u001b[0m \u001b[39mdef\u001b[39;00m \u001b[39m_get_edge_index\u001b[39m(\u001b[39mself\u001b[39m, edge_attr: EdgeAttr) \u001b[39m-\u001b[39m\u001b[39m>\u001b[39m Optional[EdgeTensorType]:\n\u001b[0;32m---> 22\u001b[0m     \u001b[39mif\u001b[39;00m edge_attr\u001b[39m.\u001b[39mlayout\u001b[39m.\u001b[39mvalue \u001b[39m==\u001b[39m EdgeLayout\u001b[39m.\u001b[39mCOO\u001b[39m.\u001b[39mvalue:\n\u001b[1;32m     23\u001b[0m         \u001b[39m# We always return a sorted COO edge index, if the request is\u001b[39;00m\n\u001b[1;32m     24\u001b[0m         \u001b[39m# for an unsorted COO edge index, we change the is_sorted flag\u001b[39;00m\n\u001b[1;32m     25\u001b[0m         \u001b[39m# to True and return the sorted COO edge index.\u001b[39;00m\n\u001b[1;32m     26\u001b[0m         \u001b[39mif\u001b[39;00m edge_attr\u001b[39m.\u001b[39mis_sorted \u001b[39m==\u001b[39m \u001b[39mFalse\u001b[39;00m:\n\u001b[1;32m     27\u001b[0m             edge_attr\u001b[39m.\u001b[39mis_sorted \u001b[39m=\u001b[39m \u001b[39mTrue\u001b[39;00m\n",
      "\u001b[0;31mNameError\u001b[0m: name 'EdgeLayout' is not defined"
     ]
    }
   ],
   "source": [
    "graph_store[('person', 'country'), 'coo']"
   ]
  },
  {
   "cell_type": "code",
   "execution_count": null,
   "metadata": {},
   "outputs": [],
   "source": []
  }
 ],
 "metadata": {
  "kernelspec": {
   "display_name": "pytorch_rg",
   "language": "python",
   "name": "python3"
  },
  "language_info": {
   "codemirror_mode": {
    "name": "ipython",
    "version": 3
   },
   "file_extension": ".py",
   "mimetype": "text/x-python",
   "name": "python",
   "nbconvert_exporter": "python",
   "pygments_lexer": "ipython3",
   "version": "3.11.4"
  },
  "orig_nbformat": 4
 },
 "nbformat": 4,
 "nbformat_minor": 2
}
