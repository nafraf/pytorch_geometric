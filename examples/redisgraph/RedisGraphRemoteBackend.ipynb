{
 "cells": [
  {
   "cell_type": "code",
   "execution_count": null,
   "metadata": {},
   "outputs": [],
   "source": []
  },
  {
   "cell_type": "markdown",
   "metadata": {},
   "source": [
    "### Step 0: Preliminaries\n",
    "Necessary package installations and imports."
   ]
  },
  {
   "cell_type": "code",
   "execution_count": 1,
   "metadata": {},
   "outputs": [
    {
     "name": "stdout",
     "output_type": "stream",
     "text": [
      "2.0.1+cu117\n"
     ]
    }
   ],
   "source": [
    "import os\n",
    "import torch\n",
    "os.environ['TORCH'] = torch.__version__\n",
    "print(torch.__version__)\n",
    "!pip install -q torch-scatter -f https://data.pyg.org/whl/torch-${TORCH}.html\n",
    "!pip install -q torch-sparse -f https://data.pyg.org/whl/torch-${TORCH}.html\n",
    "!pip install -q git+https://github.com/pyg-team/pytorch_geometric.git"
   ]
  },
  {
   "cell_type": "markdown",
   "metadata": {},
   "source": [
    "### Step 1: Create a simple graph\n",
    "Create a simple graph with three nodes and two edges"
   ]
  },
  {
   "cell_type": "code",
   "execution_count": 35,
   "metadata": {},
   "outputs": [
    {
     "data": {
      "text/plain": [
       "<redis.commands.graph.query_result.QueryResult at 0x7f9c4fc329d0>"
      ]
     },
     "execution_count": 35,
     "metadata": {},
     "output_type": "execute_result"
    }
   ],
   "source": [
    "import redis\n",
    "from redis.commands.graph import Graph\n",
    "from redis.commands.graph.node import Node\n",
    "from redis.commands.graph.edge import Edge\n",
    "\n",
    "connection = redis.Redis('localhost', 6379, 0)\n",
    "graph = Graph(connection, 'pyg')\n",
    "\n",
    "jane = Node(label='person', properties={'age':32})\n",
    "graph.add_node(jane)\n",
    "john = Node(label='person', properties={'age':38})\n",
    "graph.add_node(john)\n",
    "japan = Node(label='country', properties={'name': 'Japan'})\n",
    "graph.add_node(japan)\n",
    "edge1 = Edge(jane, 'visited', japan, properties={'purpose': 'pleasure'})\n",
    "graph.add_edge(edge1)\n",
    "edge2 = Edge(john, 'visited', japan, properties={'purpose': 'pleasure'})\n",
    "graph.add_edge(edge2)\n",
    "graph.commit()\n",
    "\n",
    "\n"
   ]
  },
  {
   "cell_type": "markdown",
   "metadata": {},
   "source": []
  },
  {
   "cell_type": "code",
   "execution_count": 36,
   "metadata": {},
   "outputs": [],
   "source": [
    "from database import Database\n",
    "db = Database('localhost',6379)\n",
    "feature_store, graph_store = db.get_torch_geometric_remote_backend()"
   ]
  },
  {
   "cell_type": "code",
   "execution_count": 37,
   "metadata": {},
   "outputs": [
    {
     "ename": "AttributeError",
     "evalue": "'RedisGraphFeatureStore' object has no attribute '_tensor_attr_cls'",
     "output_type": "error",
     "traceback": [
      "\u001b[0;31m---------------------------------------------------------------------------\u001b[0m",
      "\u001b[0;31mAttributeError\u001b[0m                            Traceback (most recent call last)",
      "Cell \u001b[0;32mIn[37], line 1\u001b[0m\n\u001b[0;32m----> 1\u001b[0m feature_store[\u001b[39m'\u001b[39;49m\u001b[39mperson\u001b[39;49m\u001b[39m'\u001b[39;49m, \u001b[39m'\u001b[39;49m\u001b[39mage\u001b[39;49m\u001b[39m'\u001b[39;49m, \u001b[39m32\u001b[39;49m]\n",
      "File \u001b[0;32m~/anaconda3/envs/pytorch_rg/lib/python3.11/site-packages/torch_geometric/data/feature_store.py:498\u001b[0m, in \u001b[0;36mFeatureStore.__getitem__\u001b[0;34m(self, key)\u001b[0m\n\u001b[1;32m    487\u001b[0m \u001b[39m\u001b[39m\u001b[39mr\u001b[39m\u001b[39m\"\"\"Supports pythonic indexing into the :class:`FeatureStore`.\u001b[39;00m\n\u001b[1;32m    488\u001b[0m \u001b[39mIn particular, the following rules are followed for indexing:\u001b[39;00m\n\u001b[1;32m    489\u001b[0m \n\u001b[0;32m   (...)\u001b[0m\n\u001b[1;32m    495\u001b[0m \u001b[39m  (partially specified) attributes.\u001b[39;00m\n\u001b[1;32m    496\u001b[0m \u001b[39m\"\"\"\u001b[39;00m\n\u001b[1;32m    497\u001b[0m \u001b[39m# CastMixin will handle the case of key being a tuple or TensorAttr:\u001b[39;00m\n\u001b[0;32m--> 498\u001b[0m attr \u001b[39m=\u001b[39m \u001b[39mself\u001b[39;49m\u001b[39m.\u001b[39;49m_tensor_attr_cls\u001b[39m.\u001b[39mcast(key)\n\u001b[1;32m    499\u001b[0m \u001b[39mif\u001b[39;00m attr\u001b[39m.\u001b[39mis_fully_specified():\n\u001b[1;32m    500\u001b[0m     \u001b[39mreturn\u001b[39;00m \u001b[39mself\u001b[39m\u001b[39m.\u001b[39mget_tensor(attr)\n",
      "\u001b[0;31mAttributeError\u001b[0m: 'RedisGraphFeatureStore' object has no attribute '_tensor_attr_cls'"
     ]
    }
   ],
   "source": [
    "feature_store['person', 'age', 32]\n"
   ]
  },
  {
   "cell_type": "code",
   "execution_count": null,
   "metadata": {},
   "outputs": [],
   "source": []
  },
  {
   "cell_type": "code",
   "execution_count": null,
   "metadata": {},
   "outputs": [],
   "source": []
  }
 ],
 "metadata": {
  "kernelspec": {
   "display_name": "pytorch_rg",
   "language": "python",
   "name": "python3"
  },
  "language_info": {
   "codemirror_mode": {
    "name": "ipython",
    "version": 3
   },
   "file_extension": ".py",
   "mimetype": "text/x-python",
   "name": "python",
   "nbconvert_exporter": "python",
   "pygments_lexer": "ipython3",
   "version": "3.11.4"
  },
  "orig_nbformat": 4
 },
 "nbformat": 4,
 "nbformat_minor": 2
}
