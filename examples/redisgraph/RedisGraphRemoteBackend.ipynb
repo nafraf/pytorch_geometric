{
 "cells": [
  {
   "cell_type": "code",
   "execution_count": null,
   "metadata": {},
   "outputs": [],
   "source": []
  },
  {
   "cell_type": "markdown",
   "metadata": {},
   "source": [
    "### Step 0: Preliminaries\n",
    "Necessary package installations and imports."
   ]
  },
  {
   "cell_type": "code",
   "execution_count": null,
   "metadata": {},
   "outputs": [],
   "source": [
    "import os\n",
    "import torch\n",
    "os.environ['TORCH'] = torch.__version__\n",
    "print(torch.__version__)\n",
    "!pip install -q torch-scatter -f https://data.pyg.org/whl/torch-${TORCH}.html\n",
    "!pip install -q torch-sparse -f https://data.pyg.org/whl/torch-${TORCH}.html\n",
    "!pip install -q git+https://github.com/pyg-team/pytorch_geometric.git"
   ]
  },
  {
   "cell_type": "markdown",
   "metadata": {},
   "source": [
    "### Step 1: Create a simple graph\n",
    "Create a simple graph with three nodes and two edges"
   ]
  },
  {
   "cell_type": "code",
   "execution_count": null,
   "metadata": {},
   "outputs": [],
   "source": [
    "import redis\n",
    "from redis.commands.graph import Graph\n",
    "from redis.commands.graph.node import Node\n",
    "from redis.commands.graph.edge import Edge\n",
    "\n",
    "connection = redis.Redis('localhost', 6379, 0)\n",
    "graph = Graph(connection, 'pyg')\n",
    "\n",
    "jane = Node(label='person', properties={'age':32})\n",
    "graph.add_node(jane)\n",
    "john = Node(label='person', properties={'age':38})\n",
    "graph.add_node(john)\n",
    "japan = Node(label='country', properties={'name': 'Japan'})\n",
    "graph.add_node(japan)\n",
    "edge1 = Edge(jane, 'visited', japan, properties={'cost': 1.3})\n",
    "graph.add_edge(edge1)\n",
    "edge2 = Edge(john, 'visited', japan, properties={'cost': 2.4})\n",
    "graph.add_edge(edge2)\n",
    "graph.commit()\n",
    "\n",
    "\n"
   ]
  },
  {
   "cell_type": "markdown",
   "metadata": {},
   "source": [
    "Test connection to RedisGraph"
   ]
  },
  {
   "cell_type": "code",
   "execution_count": null,
   "metadata": {},
   "outputs": [],
   "source": [
    "import rg_pyg.connection\n",
    "import rg_pyg.database\n",
    "\n",
    "db = rg_pyg.database.Database('localhost', 6379)\n",
    "conn = rg_pyg.connection.Connection('localhost', 6379, 0)\n",
    "\n",
    "# Read nodes\n",
    "person_nodes = conn.execute(\"MATCH (a:person) RETURN a LIMIT 5\").get_as_result_set()\n",
    "print(person_nodes[0][0])\n",
    "print(person_nodes[1][0])\n",
    "\n",
    "# Read edges\n",
    "edges = conn.execute(\"MATCH (a:person)-[r]-() RETURN r LIMIT 5\").get_as_result_set()\n",
    "print(edges[0][0])\n",
    "print(edges[1][0])\n",
    "\n",
    "# Read paths\n",
    "edges = conn.execute(\"MATCH p=(a:person)-[r]-() RETURN p LIMIT 5\").get_as_result_set()\n",
    "print(edges[0][0])\n",
    "print(edges[1][0])"
   ]
  },
  {
   "cell_type": "markdown",
   "metadata": {},
   "source": [
    "Export data as torch_geometric"
   ]
  },
  {
   "cell_type": "code",
   "execution_count": null,
   "metadata": {},
   "outputs": [],
   "source": [
    "# Read nodes\n",
    "# person_nodes = conn.execute(\"MATCH (a:person) RETURN a LIMIT 5\").get_as_torch_geometric()\n",
    "\n",
    "# Read graph and export it as torch_geometric\n",
    "query = \"MATCH (a:person)-[r]->(b) RETURN a, b, r\"\n",
    "graph_torch = conn.execute(query).get_as_torch_geometric()\n",
    "print(graph_torch)\n"
   ]
  },
  {
   "cell_type": "code",
   "execution_count": null,
   "metadata": {},
   "outputs": [],
   "source": [
    "\n",
    "feature_store, graph_store = db.get_torch_geometric_remote_backend()"
   ]
  },
  {
   "cell_type": "code",
   "execution_count": null,
   "metadata": {},
   "outputs": [],
   "source": [
    "feature_store['person', 'age', 32]\n"
   ]
  },
  {
   "cell_type": "code",
   "execution_count": null,
   "metadata": {},
   "outputs": [],
   "source": [
    "graph_store[('person', 'country'), 'coo']"
   ]
  },
  {
   "cell_type": "code",
   "execution_count": null,
   "metadata": {},
   "outputs": [],
   "source": []
  }
 ],
 "metadata": {
  "kernelspec": {
   "display_name": "pytorch_rg",
   "language": "python",
   "name": "python3"
  },
  "language_info": {
   "codemirror_mode": {
    "name": "ipython",
    "version": 3
   },
   "file_extension": ".py",
   "mimetype": "text/x-python",
   "name": "python",
   "nbconvert_exporter": "python",
   "pygments_lexer": "ipython3",
   "version": "3.11.4"
  },
  "orig_nbformat": 4
 },
 "nbformat": 4,
 "nbformat_minor": 2
}
